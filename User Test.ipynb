{
 "cells": [
  {
   "cell_type": "code",
   "execution_count": 2,
   "metadata": {},
   "outputs": [
    {
     "name": "stderr",
     "output_type": "stream",
     "text": [
      "C:\\Users\\Rob\\Anaconda3\\envs\\tomorrow\\lib\\site-packages\\sklearn\\neural_network\\multilayer_perceptron.py:1321: DataConversionWarning: A column-vector y was passed when a 1d array was expected. Please change the shape of y to (n_samples, ), for example using ravel().\n",
      "  y = column_or_1d(y, warn=True)\n"
     ]
    },
    {
     "data": {
      "text/plain": [
       "UTC\n",
       "2017-12-31 23:00:00+00:00    200.080995\n",
       "2018-01-01 00:00:00+00:00    195.363484\n",
       "2018-01-01 01:00:00+00:00    190.548261\n",
       "2018-01-01 02:00:00+00:00    184.586112\n",
       "2018-01-01 03:00:00+00:00    159.158293\n",
       "2018-01-01 04:00:00+00:00    151.635797\n",
       "2018-01-01 05:00:00+00:00    149.572475\n",
       "2018-01-01 06:00:00+00:00    157.392152\n",
       "2018-01-01 07:00:00+00:00    170.258996\n",
       "2018-01-01 08:00:00+00:00    151.434812\n",
       "2018-01-01 09:00:00+00:00    155.902590\n",
       "2018-01-01 10:00:00+00:00    151.609444\n",
       "2018-01-01 11:00:00+00:00    136.320149\n",
       "2018-01-01 12:00:00+00:00    135.080191\n",
       "2018-01-01 13:00:00+00:00    139.255223\n",
       "2018-01-01 14:00:00+00:00    148.619342\n",
       "2018-01-01 15:00:00+00:00    164.239536\n",
       "2018-01-01 16:00:00+00:00    187.323281\n",
       "2018-01-01 17:00:00+00:00    167.128830\n",
       "2018-01-01 18:00:00+00:00    174.742950\n",
       "2018-01-01 19:00:00+00:00    189.585804\n",
       "2018-01-01 20:00:00+00:00    148.464163\n",
       "2018-01-01 21:00:00+00:00    153.313408\n",
       "2018-01-01 22:00:00+00:00    181.088365\n",
       "2018-01-01 23:00:00+00:00    221.165721\n",
       "dtype: float64"
      ]
     },
     "execution_count": 2,
     "metadata": {},
     "output_type": "execute_result"
    }
   ],
   "source": [
    "from forecasters import carbonIntensityForecaster\n",
    "foc = carbonIntensityForecaster()\n",
    "foc.forecast('2018-01-01')"
   ]
  },
  {
   "cell_type": "code",
   "execution_count": 3,
   "metadata": {},
   "outputs": [
    {
     "ename": "AssertionError",
     "evalue": "Error, some data missing from datafile for 2019-10-24 21:00:00+00:00, forecast could not be produced",
     "output_type": "error",
     "traceback": [
      "\u001b[1;31m---------------------------------------------------------------------------\u001b[0m",
      "\u001b[1;31mAssertionError\u001b[0m                            Traceback (most recent call last)",
      "\u001b[1;32m<ipython-input-3-303e5c3cc340>\u001b[0m in \u001b[0;36m<module>\u001b[1;34m\u001b[0m\n\u001b[1;32m----> 1\u001b[1;33m \u001b[0mfoc\u001b[0m\u001b[1;33m.\u001b[0m\u001b[0mforecast\u001b[0m\u001b[1;33m(\u001b[0m\u001b[1;33m)\u001b[0m \u001b[1;31m#does not work because data for next 24 hours not available\u001b[0m\u001b[1;33m\u001b[0m\u001b[1;33m\u001b[0m\u001b[0m\n\u001b[0m",
      "\u001b[1;32m~\\Tomorrow\\forecasters.py\u001b[0m in \u001b[0;36mforecast\u001b[1;34m(self, date)\u001b[0m\n\u001b[0;32m     66\u001b[0m         \u001b[1;31m#check that we have features for all datetimes.\u001b[0m\u001b[1;33m\u001b[0m\u001b[1;33m\u001b[0m\u001b[1;33m\u001b[0m\u001b[0m\n\u001b[0;32m     67\u001b[0m         \u001b[1;32mfor\u001b[0m \u001b[0mdt\u001b[0m \u001b[1;32min\u001b[0m \u001b[0mdatetimes\u001b[0m\u001b[1;33m:\u001b[0m\u001b[1;33m\u001b[0m\u001b[1;33m\u001b[0m\u001b[0m\n\u001b[1;32m---> 68\u001b[1;33m             \u001b[1;32massert\u001b[0m \u001b[0mdt\u001b[0m \u001b[1;32min\u001b[0m \u001b[0mx_df\u001b[0m\u001b[1;33m.\u001b[0m\u001b[0mindex\u001b[0m\u001b[1;33m,\u001b[0m \u001b[1;34m'Error, some data missing from datafile for %s, forecast could not be produced'\u001b[0m\u001b[1;33m%\u001b[0m\u001b[0mdt\u001b[0m\u001b[1;33m\u001b[0m\u001b[1;33m\u001b[0m\u001b[0m\n\u001b[0m\u001b[0;32m     69\u001b[0m \u001b[1;33m\u001b[0m\u001b[0m\n\u001b[0;32m     70\u001b[0m         \u001b[1;31m#split into train, test\u001b[0m\u001b[1;33m\u001b[0m\u001b[1;33m\u001b[0m\u001b[1;33m\u001b[0m\u001b[0m\n",
      "\u001b[1;31mAssertionError\u001b[0m: Error, some data missing from datafile for 2019-10-24 21:00:00+00:00, forecast could not be produced"
     ]
    }
   ],
   "source": [
    "foc.forecast() #does not work because data for next 24 hours not available"
   ]
  },
  {
   "cell_type": "code",
   "execution_count": null,
   "metadata": {},
   "outputs": [],
   "source": []
  }
 ],
 "metadata": {
  "kernelspec": {
   "display_name": "Python 3",
   "language": "python",
   "name": "python3"
  },
  "language_info": {
   "codemirror_mode": {
    "name": "ipython",
    "version": 3
   },
   "file_extension": ".py",
   "mimetype": "text/x-python",
   "name": "python",
   "nbconvert_exporter": "python",
   "pygments_lexer": "ipython3",
   "version": "3.7.4"
  }
 },
 "nbformat": 4,
 "nbformat_minor": 2
}
